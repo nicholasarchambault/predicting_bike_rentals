{
 "cells": [
  {
   "cell_type": "markdown",
   "metadata": {},
   "source": [
    "# Predicting Bike Rentals \n",
    "by Nicholas Archambault\n",
    "\n",
    "Many American cities have communal bike sharing stations where you can rent bicycles by the hour or day. Washington, D.C. is one of these cities. The District collects detailed data on the number of bicycles people rent by the hour and day. \n",
    "\n",
    "The data was compiled into a file containing 17380 rows, with each row representing the number of bike rentals for a single hour of a single day. \n",
    "\n",
    "Columns include:\n",
    "\n",
    "   * `instant` - A unique sequential ID number for each row\n",
    "   * `dteday` - The date of the rentals\n",
    "   * `season` - The season in which the rentals occurred\n",
    "   * `yr` - The year the rentals occurred\n",
    "   * `mnth` - The month the rentals occurred\n",
    "   * `hr` - The hour the rentals occurred\n",
    "   * `holiday` - Whether or not the day was a holiday\n",
    "   * `weekday` - The day of the week (as a number, 0 to 7)\n",
    "   * `workingday` - Whether or not the day was a working day\n",
    "   * `weathersit` - The weather (as a categorical variable)\n",
    "   * `temp` - The temperature, on a 0-1 scale\n",
    "   * `atemp` - The adjusted temperature\n",
    "   * `hum` - The humidity, on a 0-1 scale\n",
    "   * `windspeed` - The wind speed, on a 0-1 scale\n",
    "   * `casual` - The number of casual riders (people who hadn't previously signed up with the bike sharing program)\n",
    "   * `registered` - The number of registered riders (people who had already signed up)\n",
    "   * `cnt` - The total number of bike rentals (casual + registered)"
   ]
  },
  {
   "cell_type": "markdown",
   "metadata": {},
   "source": [
    "This project will attempt to predict the total number of bikes rented in a given hour using a variety of machine learning models. The `cnt` column will serve as the target, and features will include all other columns besides `casual` and `registered`."
   ]
  },
  {
   "cell_type": "markdown",
   "metadata": {},
   "source": [
    "## Import Packages and Examine Data\n",
    "\n",
    "We can first read in the data and explore it using the usual techniques. A quick histogram plot of the `cnt` column reveals a right-skewed distribution of rental data. Examining inter-column correlation gives us a rough sense of how closely each column is related to one another."
   ]
  },
  {
   "cell_type": "code",
   "execution_count": 1,
   "metadata": {},
   "outputs": [],
   "source": [
    "# Import packages\n",
    "import warnings\n",
    "warnings.simplefilter(action='ignore', category=FutureWarning)\n",
    "import pandas as pd\n",
    "import numpy as np\n",
    "import seaborn as sns\n",
    "import matplotlib.pyplot as plt\n",
    "%matplotlib inline"
   ]
  },
  {
   "cell_type": "code",
   "execution_count": 2,
   "metadata": {},
   "outputs": [
    {
     "data": {
      "text/html": [
       "<div>\n",
       "<style scoped>\n",
       "    .dataframe tbody tr th:only-of-type {\n",
       "        vertical-align: middle;\n",
       "    }\n",
       "\n",
       "    .dataframe tbody tr th {\n",
       "        vertical-align: top;\n",
       "    }\n",
       "\n",
       "    .dataframe thead th {\n",
       "        text-align: right;\n",
       "    }\n",
       "</style>\n",
       "<table border=\"1\" class=\"dataframe\">\n",
       "  <thead>\n",
       "    <tr style=\"text-align: right;\">\n",
       "      <th></th>\n",
       "      <th>instant</th>\n",
       "      <th>dteday</th>\n",
       "      <th>season</th>\n",
       "      <th>yr</th>\n",
       "      <th>mnth</th>\n",
       "      <th>hr</th>\n",
       "      <th>holiday</th>\n",
       "      <th>weekday</th>\n",
       "      <th>workingday</th>\n",
       "      <th>weathersit</th>\n",
       "      <th>temp</th>\n",
       "      <th>atemp</th>\n",
       "      <th>hum</th>\n",
       "      <th>windspeed</th>\n",
       "      <th>casual</th>\n",
       "      <th>registered</th>\n",
       "      <th>cnt</th>\n",
       "    </tr>\n",
       "  </thead>\n",
       "  <tbody>\n",
       "    <tr>\n",
       "      <th>0</th>\n",
       "      <td>1</td>\n",
       "      <td>2011-01-01</td>\n",
       "      <td>1</td>\n",
       "      <td>0</td>\n",
       "      <td>1</td>\n",
       "      <td>0</td>\n",
       "      <td>0</td>\n",
       "      <td>6</td>\n",
       "      <td>0</td>\n",
       "      <td>1</td>\n",
       "      <td>0.24</td>\n",
       "      <td>0.2879</td>\n",
       "      <td>0.81</td>\n",
       "      <td>0.0</td>\n",
       "      <td>3</td>\n",
       "      <td>13</td>\n",
       "      <td>16</td>\n",
       "    </tr>\n",
       "    <tr>\n",
       "      <th>1</th>\n",
       "      <td>2</td>\n",
       "      <td>2011-01-01</td>\n",
       "      <td>1</td>\n",
       "      <td>0</td>\n",
       "      <td>1</td>\n",
       "      <td>1</td>\n",
       "      <td>0</td>\n",
       "      <td>6</td>\n",
       "      <td>0</td>\n",
       "      <td>1</td>\n",
       "      <td>0.22</td>\n",
       "      <td>0.2727</td>\n",
       "      <td>0.80</td>\n",
       "      <td>0.0</td>\n",
       "      <td>8</td>\n",
       "      <td>32</td>\n",
       "      <td>40</td>\n",
       "    </tr>\n",
       "    <tr>\n",
       "      <th>2</th>\n",
       "      <td>3</td>\n",
       "      <td>2011-01-01</td>\n",
       "      <td>1</td>\n",
       "      <td>0</td>\n",
       "      <td>1</td>\n",
       "      <td>2</td>\n",
       "      <td>0</td>\n",
       "      <td>6</td>\n",
       "      <td>0</td>\n",
       "      <td>1</td>\n",
       "      <td>0.22</td>\n",
       "      <td>0.2727</td>\n",
       "      <td>0.80</td>\n",
       "      <td>0.0</td>\n",
       "      <td>5</td>\n",
       "      <td>27</td>\n",
       "      <td>32</td>\n",
       "    </tr>\n",
       "    <tr>\n",
       "      <th>3</th>\n",
       "      <td>4</td>\n",
       "      <td>2011-01-01</td>\n",
       "      <td>1</td>\n",
       "      <td>0</td>\n",
       "      <td>1</td>\n",
       "      <td>3</td>\n",
       "      <td>0</td>\n",
       "      <td>6</td>\n",
       "      <td>0</td>\n",
       "      <td>1</td>\n",
       "      <td>0.24</td>\n",
       "      <td>0.2879</td>\n",
       "      <td>0.75</td>\n",
       "      <td>0.0</td>\n",
       "      <td>3</td>\n",
       "      <td>10</td>\n",
       "      <td>13</td>\n",
       "    </tr>\n",
       "    <tr>\n",
       "      <th>4</th>\n",
       "      <td>5</td>\n",
       "      <td>2011-01-01</td>\n",
       "      <td>1</td>\n",
       "      <td>0</td>\n",
       "      <td>1</td>\n",
       "      <td>4</td>\n",
       "      <td>0</td>\n",
       "      <td>6</td>\n",
       "      <td>0</td>\n",
       "      <td>1</td>\n",
       "      <td>0.24</td>\n",
       "      <td>0.2879</td>\n",
       "      <td>0.75</td>\n",
       "      <td>0.0</td>\n",
       "      <td>0</td>\n",
       "      <td>1</td>\n",
       "      <td>1</td>\n",
       "    </tr>\n",
       "  </tbody>\n",
       "</table>\n",
       "</div>"
      ],
      "text/plain": [
       "   instant      dteday  season  yr  mnth  hr  holiday  weekday  workingday  \\\n",
       "0        1  2011-01-01       1   0     1   0        0        6           0   \n",
       "1        2  2011-01-01       1   0     1   1        0        6           0   \n",
       "2        3  2011-01-01       1   0     1   2        0        6           0   \n",
       "3        4  2011-01-01       1   0     1   3        0        6           0   \n",
       "4        5  2011-01-01       1   0     1   4        0        6           0   \n",
       "\n",
       "   weathersit  temp   atemp   hum  windspeed  casual  registered  cnt  \n",
       "0           1  0.24  0.2879  0.81        0.0       3          13   16  \n",
       "1           1  0.22  0.2727  0.80        0.0       8          32   40  \n",
       "2           1  0.22  0.2727  0.80        0.0       5          27   32  \n",
       "3           1  0.24  0.2879  0.75        0.0       3          10   13  \n",
       "4           1  0.24  0.2879  0.75        0.0       0           1    1  "
      ]
     },
     "execution_count": 2,
     "metadata": {},
     "output_type": "execute_result"
    }
   ],
   "source": [
    "bikes = pd.read_csv(\"bike_rental_hour.csv\")\n",
    "bikes.head(5)"
   ]
  },
  {
   "cell_type": "code",
   "execution_count": 3,
   "metadata": {},
   "outputs": [
    {
     "data": {
      "text/plain": [
       "(array([6972., 3705., 2659., 1660.,  987.,  663.,  369.,  188.,  139.,\n",
       "          37.]),\n",
       " array([  1. ,  98.6, 196.2, 293.8, 391.4, 489. , 586.6, 684.2, 781.8,\n",
       "        879.4, 977. ]),\n",
       " <a list of 10 Patch objects>)"
      ]
     },
     "execution_count": 3,
     "metadata": {},
     "output_type": "execute_result"
    },
    {
     "data": {
      "image/png": "[encoded data removed]",
      "text/plain": [
       "<Figure size 432x288 with 1 Axes>"
      ]
     },
     "metadata": {
      "needs_background": "light"
     },
     "output_type": "display_data"
    }
   ],
   "source": [
    "plt.hist(bikes[\"cnt\"])"
   ]
  },
  {
   "cell_type": "code",
   "execution_count": 4,
   "metadata": {},
   "outputs": [
    {
     "data": {
      "text/plain": [
       "instant       0.278379\n",
       "season        0.178056\n",
       "yr            0.250495\n",
       "mnth          0.120638\n",
       "hr            0.394071\n",
       "holiday      -0.030927\n",
       "weekday       0.026900\n",
       "workingday    0.030284\n",
       "weathersit   -0.142426\n",
       "temp          0.404772\n",
       "atemp         0.400929\n",
       "hum          -0.322911\n",
       "windspeed     0.093234\n",
       "casual        0.694564\n",
       "registered    0.972151\n",
       "cnt           1.000000\n",
       "Name: cnt, dtype: float64"
      ]
     },
     "execution_count": 4,
     "metadata": {},
     "output_type": "execute_result"
    }
   ],
   "source": [
    "bikes.corr().iloc[:,-1] # Eliminate the `instant` column"
   ]
  },
  {
   "cell_type": "markdown",
   "metadata": {},
   "source": [
    "## Engineering Features\n",
    "\n",
    "The `hr` column shows which hour, from 1 to 24, a bike was rented, but it does not understand that certain hours are related. We can group 'morning', 'afternoon', 'evening', and 'night' hours together with a simple function."
   ]
  },
  {
   "cell_type": "code",
   "execution_count": 5,
   "metadata": {},
   "outputs": [],
   "source": [
    "def assign_label(hour):\n",
    "    hour = int(hour)\n",
    "    \n",
    "    # 'Night' hours\n",
    "    if 0 <= hour and hour < 6:\n",
    "        return 4\n",
    "    \n",
    "    # 'Evening' hours\n",
    "    elif 6 <= hour and hour < 12:\n",
    "        return 1\n",
    "    \n",
    "    # 'Afternoon' hours\n",
    "    elif 12 <= hour and hour < 18:\n",
    "        return 2\n",
    "    \n",
    "    # 'Morning' hours\n",
    "    elif 18 <= hour < 24:\n",
    "        return 3\n",
    "    \n",
    "bikes[\"time_label\"] = bikes[\"hr\"].apply(assign_label)"
   ]
  },
  {
   "cell_type": "markdown",
   "metadata": {},
   "source": [
    "## Training and Testing\n",
    "\n",
    "Prior to training and testing our data with a variety of model types, we must choose an error metric appropriate to the target column. We see that `cnt` consists of continuous, numeric data; accordingly, mean squared error (MSE) seems to be the best choice of metric by which to evaluate this data.\n",
    "\n",
    "Nest, we assign 80% of our data as the training dataset, and the other 20% as the test dataset."
   ]
  },
  {
   "cell_type": "code",
   "execution_count": 6,
   "metadata": {},
   "outputs": [],
   "source": [
    "train = bikes.sample(frac=0.8)"
   ]
  },
  {
   "cell_type": "code",
   "execution_count": 7,
   "metadata": {},
   "outputs": [],
   "source": [
    "bikes[\"intrain\"] = bikes.index.isin(train.index) # Creates a binary variable showing whether row is in training data"
   ]
  },
  {
   "cell_type": "code",
   "execution_count": 8,
   "metadata": {},
   "outputs": [],
   "source": [
    "test = bikes[bikes[\"intrain\"] == False] # Partitions data into test set"
   ]
  },
  {
   "cell_type": "markdown",
   "metadata": {},
   "source": [
    "We'll drop the columns that we've identified to be ineffectual for prediction, as well the target column, `cnt`, and those columns that we've replaced, such as `hr`."
   ]
  },
  {
   "cell_type": "code",
   "execution_count": 9,
   "metadata": {},
   "outputs": [],
   "source": [
    "columns = bikes.columns.drop([\"cnt\", \"casual\", \"dteday\", \"registered\", \"intrain\", \"hr\", \"instant\"]).tolist()"
   ]
  },
  {
   "cell_type": "markdown",
   "metadata": {},
   "source": [
    "From here, we can begin fitting different models and comparing their errors to find the best choice."
   ]
  },
  {
   "cell_type": "markdown",
   "metadata": {},
   "source": [
    "### Linear Regression"
   ]
  },
  {
   "cell_type": "code",
   "execution_count": 10,
   "metadata": {},
   "outputs": [],
   "source": [
    "# Import packages\n",
    "from sklearn.linear_model import LinearRegression\n",
    "from sklearn.metrics import mean_squared_error\n",
    "\n",
    "# Instantiate and fit linear regression model\n",
    "lr = LinearRegression()\n",
    "lr.fit(train[columns], train[\"cnt\"])\n",
    "predictions = lr.predict(test[columns])\n",
    "mse = mean_squared_error(predictions, test[\"cnt\"])"
   ]
  },
  {
   "cell_type": "code",
   "execution_count": 11,
   "metadata": {},
   "outputs": [
    {
     "data": {
      "text/plain": [
       "19973.800903282583"
      ]
     },
     "execution_count": 11,
     "metadata": {},
     "output_type": "execute_result"
    }
   ],
   "source": [
    "mse"
   ]
  },
  {
   "cell_type": "markdown",
   "metadata": {},
   "source": [
    "Given that many of the columns are highly correlated, we would expect linear regression to render a fairly accurate model. The error, however, is very high, which may be due to the fact that the data has a few extremely high rental counts, but otherwise mostly low counts. Larger errors are penalized more with MSE, which leads to a higher total error."
   ]
  },
  {
   "cell_type": "markdown",
   "metadata": {},
   "source": [
    "### Decision Tree\n",
    "\n",
    "Decision trees tend to predict outcomes much more reliably than linear regression models. Because a decision tree is a complex model, it also tends to overfit, particularly when we don't tweak parameters like maximum depth and minimum number of samples per leaf. Decision trees are prone to instability -- small changes in the input data can result in a very different output model."
   ]
  },
  {
   "cell_type": "code",
   "execution_count": 12,
   "metadata": {},
   "outputs": [],
   "source": [
    "# Import packages\n",
    "from sklearn.tree import DecisionTreeRegressor\n",
    "\n",
    "# Instantiate and fit decision tree\n",
    "reg = DecisionTreeRegressor()\n",
    "reg.fit(train[columns], train[\"cnt\"])\n",
    "predictions_tree = reg.predict(test[columns])\n",
    "mse_tree = mean_squared_error(predictions_tree, test[\"cnt\"])"
   ]
  },
  {
   "cell_type": "code",
   "execution_count": 13,
   "metadata": {},
   "outputs": [
    {
     "data": {
      "text/plain": [
       "22697.315360887354"
      ]
     },
     "execution_count": 13,
     "metadata": {},
     "output_type": "execute_result"
    }
   ],
   "source": [
    "mse_tree"
   ]
  },
  {
   "cell_type": "markdown",
   "metadata": {
    "collapsed": true
   },
   "source": [
    "Our first iteration of a decision tree actually returns an error higher than that of the linear regression model, indicating that it may be overfitting. Tweaking parameters within the model, including the number of minimum samples per leaf, can lead to a better model."
   ]
  },
  {
   "cell_type": "code",
   "execution_count": 14,
   "metadata": {},
   "outputs": [
    {
     "name": "stdout",
     "output_type": "stream",
     "text": [
      "16184.591404772305\n"
     ]
    }
   ],
   "source": [
    "# Update parameters and re-fit\n",
    "reg = DecisionTreeRegressor(min_samples_leaf = 5)\n",
    "reg.fit(train[columns], train[\"cnt\"])\n",
    "predictions_tree = reg.predict(test[columns])\n",
    "mse_tree = mean_squared_error(predictions_tree, test[\"cnt\"])\n",
    "print(mse_tree)"
   ]
  },
  {
   "cell_type": "markdown",
   "metadata": {
    "collapsed": true
   },
   "source": [
    "We observe a vast improvement when the tree model takes into account non-linear predictors."
   ]
  },
  {
   "cell_type": "markdown",
   "metadata": {},
   "source": [
    "### Random Forest\n",
    "\n",
    "Finally, we can apply the random forest algorithm, which improves on the decision tree algorithm. Random forests tend to be much more accurate than simple models like linear regression. Due to the way random forests are constructed, they tend to overfit much less than decision trees. Random forests can still be prone to overfitting, so it's important to tune parameters like maximum depth and minimum samples per leaf.\n",
    "\n",
    "This time, we'll plot the errors of random forests of varying minimum samples per leaf in order to see how they change as the parameter is altered."
   ]
  },
  {
   "cell_type": "code",
   "execution_count": 26,
   "metadata": {},
   "outputs": [],
   "source": [
    "# Import packages\n",
    "from sklearn.ensemble import RandomForestRegressor\n",
    "\n",
    "# Iterate over random forest models with varying minimum samples per leaf\n",
    "vals = []\n",
    "for i in range(1,22):\n",
    "    rf = RandomForestRegressor(min_samples_leaf = i)\n",
    "    rf.fit(train[columns], train[\"cnt\"])\n",
    "    predictions_forest = rf.predict(test[columns])\n",
    "    mse_forest = mean_squared_error(predictions_forest, test[\"cnt\"])\n",
    "    vals.append(mse_forest)"
   ]
  },
  {
   "cell_type": "code",
   "execution_count": 27,
   "metadata": {},
   "outputs": [
    {
     "data": {
      "image/png": "[encoded data removed]",
      "text/plain": [
       "<Figure size 432x288 with 1 Axes>"
      ]
     },
     "metadata": {
      "needs_background": "light"
     },
     "output_type": "display_data"
    }
   ],
   "source": [
    "# Plot data to visually examine which parameter tuning renders least error\n",
    "plt.plot(vals)\n",
    "plt.xticks(range(0,22,2))\n",
    "plt.show()"
   ]
  },
  {
   "cell_type": "code",
   "execution_count": 28,
   "metadata": {},
   "outputs": [
    {
     "name": "stdout",
     "output_type": "stream",
     "text": [
      "12296.859751905602\n"
     ]
    }
   ],
   "source": [
    "# Identify the index of the model with the least error. Run model\n",
    "rf = RandomForestRegressor(min_samples_leaf = vals.index(min(vals)))\n",
    "rf.fit(train[columns], train[\"cnt\"])\n",
    "predictions_forest = rf.predict(test[columns])\n",
    "mse_forest = mean_squared_error(predictions_forest, test[\"cnt\"])\n",
    "print(mse_forest)"
   ]
  },
  {
   "cell_type": "markdown",
   "metadata": {
    "collapsed": true
   },
   "source": [
    "We set the minimum samples per leaf to the value between 1 and 20 that renders the most accurate model. Using list indexing, and confirmed by visual inspection of the plot, we find that value to be 5. Indeed, the best random forest model improves on the error of the decision tree model.\n",
    "\n",
    "Next steps could include further random forest parameter tuning to drive the error even lower."
   ]
  },
  {
   "cell_type": "markdown",
   "metadata": {},
   "source": [
    "## Conclusion\n",
    "\n",
    "In this project, we predicted the number of bikes rented at a given hour in Washington D.C. and compared the accuracies of linear regression, decision tree, and random forest algorithms, finding that random forests yielded the best-fitting predictive model as measured by lowest mean squared error."
   ]
  }
 ],
 "metadata": {
  "kernelspec": {
   "display_name": "Python 3",
   "language": "python",
   "name": "python3"
  },
  "language_info": {
   "codemirror_mode": {
    "name": "ipython",
    "version": 3
   },
   "file_extension": ".py",
   "mimetype": "text/x-python",
   "name": "python",
   "nbconvert_exporter": "python",
   "pygments_lexer": "ipython3",
   "version": "3.7.1"
  }
 },
 "nbformat": 4,
 "nbformat_minor": 1
}
